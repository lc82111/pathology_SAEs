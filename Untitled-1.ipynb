{
 "cells": [
  {
   "cell_type": "markdown",
   "metadata": {},
   "source": [
    "# Load and Prepare Data\n",
    "Load the UMAP embeddings and cluster labels from numpy files, and prepare them for plotting."
   ]
  },
  {
   "cell_type": "code",
   "execution_count": 1,
   "metadata": {},
   "outputs": [
    {
     "ename": "FileNotFoundError",
     "evalue": "umap_embeddings.npy not found.",
     "output_type": "error",
     "traceback": [
      "\u001b[0;31m---------------------------------------------------------------------------\u001b[0m",
      "\u001b[0;31mFileNotFoundError\u001b[0m                         Traceback (most recent call last)",
      "Cell \u001b[0;32mIn[1], line 9\u001b[0m\n\u001b[1;32m      7\u001b[0m umap_embeddings_file \u001b[38;5;241m=\u001b[39m \u001b[38;5;124m'\u001b[39m\u001b[38;5;124mumap_embeddings.npy\u001b[39m\u001b[38;5;124m'\u001b[39m\n\u001b[1;32m      8\u001b[0m \u001b[38;5;28;01mif\u001b[39;00m \u001b[38;5;129;01mnot\u001b[39;00m Path(umap_embeddings_file)\u001b[38;5;241m.\u001b[39mexists():\n\u001b[0;32m----> 9\u001b[0m     \u001b[38;5;28;01mraise\u001b[39;00m \u001b[38;5;167;01mFileNotFoundError\u001b[39;00m(\u001b[38;5;124mf\u001b[39m\u001b[38;5;124m\"\u001b[39m\u001b[38;5;132;01m{\u001b[39;00mumap_embeddings_file\u001b[38;5;132;01m}\u001b[39;00m\u001b[38;5;124m not found.\u001b[39m\u001b[38;5;124m\"\u001b[39m)\n\u001b[1;32m     10\u001b[0m umap_embeddings \u001b[38;5;241m=\u001b[39m np\u001b[38;5;241m.\u001b[39mload(umap_embeddings_file)\n\u001b[1;32m     12\u001b[0m \u001b[38;5;66;03m# Load cluster labels\u001b[39;00m\n",
      "\u001b[0;31mFileNotFoundError\u001b[0m: umap_embeddings.npy not found."
     ]
    }
   ],
   "source": [
    "# Load and Prepare Data\n",
    "\n",
    "import numpy as np\n",
    "from pathlib import Path\n",
    "\n",
    "# Load UMAP embeddings\n",
    "umap_embeddings_file = 'umap_embeddings.npy'\n",
    "if not Path(umap_embeddings_file).exists():\n",
    "    raise FileNotFoundError(f\"{umap_embeddings_file} not found.\")\n",
    "umap_embeddings = np.load(umap_embeddings_file)\n",
    "\n",
    "# Load cluster labels\n",
    "cluster_labels_file = 'cluster_labels.npy'\n",
    "if not Path(cluster_labels_file).exists():\n",
    "    raise FileNotFoundError(f\"{cluster_labels_file} not found.\")\n",
    "cluster_labels = np.load(cluster_labels_file)\n",
    "\n",
    "# Prepare data for plotting\n",
    "data = []\n",
    "for embedding, cluster in zip(umap_embeddings, cluster_labels):\n",
    "    data.append([embedding.tolist(), int(cluster)])"
   ]
  },
  {
   "cell_type": "markdown",
   "metadata": {},
   "source": [
    "# Create Basic Scatter Plot\n",
    "Create a basic scatter plot using matplotlib to visualize the 2D UMAP embeddings."
   ]
  },
  {
   "cell_type": "code",
   "execution_count": null,
   "metadata": {},
   "outputs": [],
   "source": [
    "import matplotlib.pyplot as plt\n",
    "\n",
    "# Convert data to numpy array for easier manipulation\n",
    "data_array = np.array(data)\n",
    "\n",
    "# Extract embeddings and cluster labels\n",
    "embeddings = np.vstack(data_array[:, 0])\n",
    "clusters = data_array[:, 1].astype(int)\n",
    "\n",
    "# Create scatter plot\n",
    "plt.figure(figsize=(10, 8))\n",
    "scatter = plt.scatter(embeddings[:, 0], embeddings[:, 1], c=clusters, cmap='viridis', s=5)\n",
    "plt.colorbar(scatter, label='Cluster')\n",
    "plt.title('2D UMAP Embeddings Scatter Plot')\n",
    "plt.xlabel('UMAP Dimension 1')\n",
    "plt.ylabel('UMAP Dimension 2')\n",
    "plt.show()"
   ]
  },
  {
   "cell_type": "markdown",
   "metadata": {},
   "source": [
    "# Enhanced Visualization with Colors\n",
    "Create a colored scatter plot where points are colored by their cluster labels. Add a colorbar and legend."
   ]
  },
  {
   "cell_type": "code",
   "execution_count": 2,
   "metadata": {},
   "outputs": [
    {
     "ename": "NameError",
     "evalue": "name 'data' is not defined",
     "output_type": "error",
     "traceback": [
      "\u001b[0;31m---------------------------------------------------------------------------\u001b[0m",
      "\u001b[0;31mNameError\u001b[0m                                 Traceback (most recent call last)",
      "Cell \u001b[0;32mIn[2], line 7\u001b[0m\n\u001b[1;32m      4\u001b[0m \u001b[38;5;28;01mimport\u001b[39;00m \u001b[38;5;21;01mnumpy\u001b[39;00m \u001b[38;5;28;01mas\u001b[39;00m \u001b[38;5;21;01mnp\u001b[39;00m\n\u001b[1;32m      6\u001b[0m \u001b[38;5;66;03m# Convert data to numpy array for easier manipulation\u001b[39;00m\n\u001b[0;32m----> 7\u001b[0m data_array \u001b[38;5;241m=\u001b[39m np\u001b[38;5;241m.\u001b[39marray(\u001b[43mdata\u001b[49m)\n\u001b[1;32m      9\u001b[0m \u001b[38;5;66;03m# Extract embeddings and cluster labels\u001b[39;00m\n\u001b[1;32m     10\u001b[0m embeddings \u001b[38;5;241m=\u001b[39m np\u001b[38;5;241m.\u001b[39mvstack(data_array[:, \u001b[38;5;241m0\u001b[39m])\n",
      "\u001b[0;31mNameError\u001b[0m: name 'data' is not defined"
     ]
    }
   ],
   "source": [
    "# Enhanced Visualization with Colors\n",
    "\n",
    "import matplotlib.pyplot as plt\n",
    "import numpy as np\n",
    "\n",
    "# Convert data to numpy array for easier manipulation\n",
    "data_array = np.array(data)\n",
    "\n",
    "# Extract embeddings and cluster labels\n",
    "embeddings = np.vstack(data_array[:, 0])\n",
    "clusters = data_array[:, 1].astype(int)\n",
    "\n",
    "# Create scatter plot\n",
    "plt.figure(figsize=(10, 8))\n",
    "scatter = plt.scatter(embeddings[:, 0], embeddings[:, 1], c=clusters, cmap='viridis', s=5)\n",
    "plt.colorbar(scatter, label='Cluster')\n",
    "plt.title('2D UMAP Embeddings Scatter Plot')\n",
    "plt.xlabel('UMAP Dimension 1')\n",
    "plt.ylabel('UMAP Dimension 2')\n",
    "plt.show()"
   ]
  },
  {
   "cell_type": "markdown",
   "metadata": {},
   "source": [
    "# Interactive Plot with Plotly\n",
    "Create an interactive scatter plot using Plotly that allows zooming and hovering over points."
   ]
  },
  {
   "cell_type": "code",
   "execution_count": null,
   "metadata": {},
   "outputs": [],
   "source": [
    "import plotly.express as px\n",
    "import pandas as pd\n",
    "\n",
    "# Convert data to pandas DataFrame for Plotly\n",
    "df = pd.DataFrame(data, columns=['embedding', 'cluster'])\n",
    "df[['UMAP1', 'UMAP2']] = pd.DataFrame(df['embedding'].tolist(), index=df.index)\n",
    "df.drop(columns=['embedding'], inplace=True)\n",
    "\n",
    "# Create interactive scatter plot with Plotly\n",
    "fig = px.scatter(\n",
    "    df, x='UMAP1', y='UMAP2', color='cluster',\n",
    "    title='Interactive 2D UMAP Embeddings Scatter Plot',\n",
    "    labels={'UMAP1': 'UMAP Dimension 1', 'UMAP2': 'UMAP Dimension 2'},\n",
    "    hover_data=['cluster']\n",
    ")\n",
    "\n",
    "# Show plot\n",
    "fig.show()"
   ]
  },
  {
   "cell_type": "markdown",
   "metadata": {},
   "source": [
    "# Plot Multiple Views\n",
    "Create a subplot layout to show different aspects of the data, including cluster distributions and density plots."
   ]
  },
  {
   "cell_type": "code",
   "execution_count": null,
   "metadata": {},
   "outputs": [],
   "source": [
    "import seaborn as sns\n",
    "import matplotlib.pyplot as plt\n",
    "import numpy as np\n",
    "\n",
    "# Create a subplot layout\n",
    "fig, axes = plt.subplots(2, 2, figsize=(15, 12))\n",
    "\n",
    "# Scatter plot of UMAP embeddings with cluster labels\n",
    "scatter = axes[0, 0].scatter(embeddings[:, 0], embeddings[:, 1], c=clusters, cmap='viridis', s=5)\n",
    "axes[0, 0].set_title('2D UMAP Embeddings Scatter Plot')\n",
    "axes[0, 0].set_xlabel('UMAP Dimension 1')\n",
    "axes[0, 0].set_ylabel('UMAP Dimension 2')\n",
    "fig.colorbar(scatter, ax=axes[0, 0], label='Cluster')\n",
    "\n",
    "# Cluster distribution bar plot\n",
    "unique_clusters, counts = np.unique(clusters, return_counts=True)\n",
    "sns.barplot(x=unique_clusters, y=counts, ax=axes[0, 1], palette='viridis')\n",
    "axes[0, 1].set_title('Cluster Distribution')\n",
    "axes[0, 1].set_xlabel('Cluster')\n",
    "axes[0, 1].set_ylabel('Count')\n",
    "\n",
    "# Density plot of UMAP Dimension 1\n",
    "sns.kdeplot(embeddings[:, 0], ax=axes[1, 0], shade=True, color='blue')\n",
    "axes[1, 0].set_title('Density Plot of UMAP Dimension 1')\n",
    "axes[1, 0].set_xlabel('UMAP Dimension 1')\n",
    "axes[1, 0].set_ylabel('Density')\n",
    "\n",
    "# Density plot of UMAP Dimension 2\n",
    "sns.kdeplot(embeddings[:, 1], ax=axes[1, 1], shade=True, color='green')\n",
    "axes[1, 1].set_title('Density Plot of UMAP Dimension 2')\n",
    "axes[1, 1].set_xlabel('UMAP Dimension 2')\n",
    "axes[1, 1].set_ylabel('Density')\n",
    "\n",
    "# Adjust layout\n",
    "plt.tight_layout()\n",
    "plt.show()"
   ]
  }
 ],
 "metadata": {
  "kernelspec": {
   "display_name": "rapids-24.10",
   "language": "python",
   "name": "python3"
  },
  "language_info": {
   "codemirror_mode": {
    "name": "ipython",
    "version": 3
   },
   "file_extension": ".py",
   "mimetype": "text/x-python",
   "name": "python",
   "nbconvert_exporter": "python",
   "pygments_lexer": "ipython3",
   "version": "3.11.10"
  }
 },
 "nbformat": 4,
 "nbformat_minor": 2
}
