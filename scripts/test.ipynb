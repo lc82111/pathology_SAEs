{
 "cells": [
  {
   "cell_type": "code",
   "execution_count": 5,
   "metadata": {},
   "outputs": [],
   "source": [
    "data_root_dir=\"/mnt/disk16T/datasets/patholog/FD_data/Features/\"\n",
    "# read h5 file\n",
    "import h5py\n",
    "import numpy as np\n",
    "import os\n",
    "import pandas as pd\n",
    "import matplotlib.pyplot as plt"
   ]
  },
  {
   "cell_type": "code",
   "execution_count": null,
   "metadata": {},
   "outputs": [
    {
     "name": "stdout",
     "output_type": "stream",
     "text": [
      "/mnt/disk16T/datasets/patholog/FD_data/Features/Gigapath/2017-24945F.h5\n"
     ]
    }
   ],
   "source": [
    "!ls /mnt/disk16T/datasets/patholog/FD_data/Features/Gigapath/2017-24945F.h5"
   ]
  },
  {
   "cell_type": "code",
   "execution_count": null,
   "metadata": {},
   "outputs": [
    {
     "name": "stdout",
     "output_type": "stream",
     "text": [
      "Keys: <KeysViewHDF5 ['augmented', 'coords', 'feats']>\n"
     ]
    }
   ],
   "source": [
    "h5py_file = os.path.join(data_root_dir, \"Gigapath/2017-24945F.h5\")\n",
    "\n",
    "with h5py.File(h5py_file, 'r') as f:\n",
    "    # List all groups\n",
    "    print(\"Keys: %s\" % f.keys())"
   ]
  },
  {
   "cell_type": "code",
   "execution_count": 15,
   "metadata": {},
   "outputs": [
    {
     "name": "stdout",
     "output_type": "stream",
     "text": [
      "(1218, 1536)\n",
      "(1218,)\n",
      "[b'10_13' b'10_14' b'10_15' b'10_16' b'10_17' b'10_18' b'10_19' b'10_20'\n",
      " b'10_21' b'10_23']\n",
      "<HDF5 dataset \"coords\": shape (1218,), type \"|O\">\n"
     ]
    }
   ],
   "source": [
    "# read the data\n",
    "with h5py.File(h5py_file, 'r') as f:\n",
    "    print(f['feats'].shape)\n",
    "    print(f['coords'].shape)\n",
    "    print(f['coords'][0:10])\n",
    "    coords = f['coords']\n",
    "    print(coords)"
   ]
  },
  {
   "cell_type": "code",
   "execution_count": 16,
   "metadata": {},
   "outputs": [
    {
     "data": {
      "text/plain": [
       "'10_13'"
      ]
     },
     "execution_count": 16,
     "metadata": {},
     "output_type": "execute_result"
    }
   ],
   "source": [
    "b'10_13'.decode('utf-8')"
   ]
  },
  {
   "cell_type": "code",
   "execution_count": 17,
   "metadata": {},
   "outputs": [
    {
     "data": {
      "text/plain": [
       "b'10_13'"
      ]
     },
     "execution_count": 17,
     "metadata": {},
     "output_type": "execute_result"
    }
   ],
   "source": [
    "'10_13'.encode('utf-8')"
   ]
  },
  {
   "cell_type": "code",
   "execution_count": null,
   "metadata": {},
   "outputs": [
    {
     "data": {
      "text/html": [
       "<div>\n",
       "<style scoped>\n",
       "    .dataframe tbody tr th:only-of-type {\n",
       "        vertical-align: middle;\n",
       "    }\n",
       "\n",
       "    .dataframe tbody tr th {\n",
       "        vertical-align: top;\n",
       "    }\n",
       "\n",
       "    .dataframe thead th {\n",
       "        text-align: right;\n",
       "    }\n",
       "</style>\n",
       "<table border=\"1\" class=\"dataframe\">\n",
       "  <thead>\n",
       "    <tr style=\"text-align: right;\">\n",
       "      <th></th>\n",
       "      <th>patient_id</th>\n",
       "      <th>cluster</th>\n",
       "    </tr>\n",
       "  </thead>\n",
       "  <tbody>\n",
       "    <tr>\n",
       "      <th>0</th>\n",
       "      <td>Z034/12_56</td>\n",
       "      <td>35</td>\n",
       "    </tr>\n",
       "    <tr>\n",
       "      <th>1</th>\n",
       "      <td>S106/89_25</td>\n",
       "      <td>30</td>\n",
       "    </tr>\n",
       "    <tr>\n",
       "      <th>2</th>\n",
       "      <td>S258/89_11</td>\n",
       "      <td>30</td>\n",
       "    </tr>\n",
       "    <tr>\n",
       "      <th>3</th>\n",
       "      <td>MP2020-16967/14_35</td>\n",
       "      <td>30</td>\n",
       "    </tr>\n",
       "    <tr>\n",
       "      <th>4</th>\n",
       "      <td>Z232/75_67</td>\n",
       "      <td>36</td>\n",
       "    </tr>\n",
       "  </tbody>\n",
       "</table>\n",
       "</div>"
      ],
      "text/plain": [
       "           patient_id  cluster\n",
       "0          Z034/12_56       35\n",
       "1          S106/89_25       30\n",
       "2          S258/89_11       30\n",
       "3  MP2020-16967/14_35       30\n",
       "4          Z232/75_67       36"
      ]
     },
     "execution_count": 18,
     "metadata": {},
     "output_type": "execute_result"
    }
   ],
   "source": [
    "# load csv \n",
    "import pandas as pd\n",
    "df = pd.read_csv(\"../cluster_assignments.csv\")\n",
    "df.head()\n",
    "\n"
   ]
  },
  {
   "cell_type": "code",
   "execution_count": 22,
   "metadata": {},
   "outputs": [
    {
     "name": "stdout",
     "output_type": "stream",
     "text": [
      "Number of unique patients: 2549\n",
      "\n",
      "Patient sample counts:\n",
      "patient_name\n",
      "TCGA-SS-A7HO-01Z-00-DX1    163\n",
      "2019-02707E                150\n",
      "TCGA-AY-A71X-01Z-00-DX1    143\n",
      "GR2021-00802-1HE           141\n",
      "Z324                       139\n",
      "                          ... \n",
      "MP2019-09314                 4\n",
      "MP2020-06062                 3\n",
      "2018-56924-E                 3\n",
      "TCGA-AG-3727-01Z-00-DX1      3\n",
      "TCGA-AA-3556-01Z-00-DX1      2\n",
      "Name: count, Length: 2549, dtype: int64\n"
     ]
    }
   ],
   "source": [
    "# Extract patient names before '/' and count unique values\n",
    "df['patient_name'] = df['patient_id'].str.split('/').str[0]\n",
    "\n",
    "# Count unique patients\n",
    "num_unique_patients = df['patient_name'].nunique()\n",
    "print(f\"Number of unique patients: {num_unique_patients}\")\n",
    "\n",
    "# Show distribution\n",
    "print(\"\\nPatient sample counts:\")\n",
    "print(df['patient_name'].value_counts())"
   ]
  },
  {
   "cell_type": "code",
   "execution_count": 21,
   "metadata": {},
   "outputs": [
    {
     "name": "stdout",
     "output_type": "stream",
     "text": [
      "Number of unique patients: 100000\n"
     ]
    }
   ],
   "source": [
    "# Count unique patient IDs\n",
    "num_unique_patients = df['patient_id'].nunique()\n",
    "print(f\"Number of unique patients: {num_unique_patients}\")"
   ]
  }
 ],
 "metadata": {
  "kernelspec": {
   "display_name": "rapids-24.10",
   "language": "python",
   "name": "python3"
  },
  "language_info": {
   "codemirror_mode": {
    "name": "ipython",
    "version": 3
   },
   "file_extension": ".py",
   "mimetype": "text/x-python",
   "name": "python",
   "nbconvert_exporter": "python",
   "pygments_lexer": "ipython3",
   "version": "3.11.10"
  }
 },
 "nbformat": 4,
 "nbformat_minor": 2
}
