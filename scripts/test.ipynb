{
 "cells": [
  {
   "cell_type": "code",
   "execution_count": 5,
   "metadata": {},
   "outputs": [],
   "source": [
    "data_root_dir=\"/mnt/disk16T/datasets/patholog/FD_data/Features/\"\n",
    "# read h5 file\n",
    "import h5py\n",
    "import numpy as np\n",
    "import os\n",
    "import pandas as pd\n",
    "import matplotlib.pyplot as plt"
   ]
  },
  {
   "cell_type": "code",
   "execution_count": null,
   "metadata": {},
   "outputs": [
    {
     "name": "stdout",
     "output_type": "stream",
     "text": [
      "/mnt/disk16T/datasets/patholog/FD_data/Features/Gigapath/2017-24945F.h5\n"
     ]
    }
   ],
   "source": [
    "!ls /mnt/disk16T/datasets/patholog/FD_data/Features/Gigapath/2017-24945F.h5"
   ]
  },
  {
   "cell_type": "code",
   "execution_count": null,
   "metadata": {},
   "outputs": [
    {
     "name": "stdout",
     "output_type": "stream",
     "text": [
      "Keys: <KeysViewHDF5 ['augmented', 'coords', 'feats']>\n"
     ]
    }
   ],
   "source": [
    "h5py_file = os.path.join(data_root_dir, \"Gigapath/2017-24945F.h5\")\n",
    "\n",
    "with h5py.File(h5py_file, 'r') as f:\n",
    "    # List all groups\n",
    "    print(\"Keys: %s\" % f.keys())"
   ]
  },
  {
   "cell_type": "code",
   "execution_count": 15,
   "metadata": {},
   "outputs": [
    {
     "name": "stdout",
     "output_type": "stream",
     "text": [
      "(1218, 1536)\n",
      "(1218,)\n",
      "[b'10_13' b'10_14' b'10_15' b'10_16' b'10_17' b'10_18' b'10_19' b'10_20'\n",
      " b'10_21' b'10_23']\n",
      "<HDF5 dataset \"coords\": shape (1218,), type \"|O\">\n"
     ]
    }
   ],
   "source": [
    "# read the data\n",
    "with h5py.File(h5py_file, 'r') as f:\n",
    "    print(f['feats'].shape)\n",
    "    print(f['coords'].shape)\n",
    "    print(f['coords'][0:10])\n",
    "    coords = f['coords']\n",
    "    print(coords)"
   ]
  },
  {
   "cell_type": "code",
   "execution_count": 16,
   "metadata": {},
   "outputs": [
    {
     "data": {
      "text/plain": [
       "'10_13'"
      ]
     },
     "execution_count": 16,
     "metadata": {},
     "output_type": "execute_result"
    }
   ],
   "source": [
    "b'10_13'.decode('utf-8')"
   ]
  },
  {
   "cell_type": "code",
   "execution_count": 17,
   "metadata": {},
   "outputs": [
    {
     "data": {
      "text/plain": [
       "b'10_13'"
      ]
     },
     "execution_count": 17,
     "metadata": {},
     "output_type": "execute_result"
    }
   ],
   "source": [
    "'10_13'.encode('utf-8')"
   ]
  },
  {
   "cell_type": "code",
   "execution_count": null,
   "metadata": {},
   "outputs": [],
   "source": []
  }
 ],
 "metadata": {
  "kernelspec": {
   "display_name": "rapids-24.10",
   "language": "python",
   "name": "python3"
  },
  "language_info": {
   "codemirror_mode": {
    "name": "ipython",
    "version": 3
   },
   "file_extension": ".py",
   "mimetype": "text/x-python",
   "name": "python",
   "nbconvert_exporter": "python",
   "pygments_lexer": "ipython3",
   "version": "3.11.10"
  }
 },
 "nbformat": 4,
 "nbformat_minor": 2
}
